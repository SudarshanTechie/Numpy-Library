{
 "cells": [
  {
   "cell_type": "code",
   "execution_count": 2,
   "id": "ade69202-c99f-4ae3-b20f-703adb9fd958",
   "metadata": {},
   "outputs": [],
   "source": [
    "import numpy as np"
   ]
  },
  {
   "cell_type": "code",
   "execution_count": 3,
   "id": "35548823-297e-4adf-aa41-e3c07406eaf9",
   "metadata": {},
   "outputs": [
    {
     "name": "stdout",
     "output_type": "stream",
     "text": [
      "[30 40 50  5  5  3]\n"
     ]
    }
   ],
   "source": [
    "arr1=np.array([30,40,50])\n",
    "arr2=np.array([5,5,3])\n",
    "# concatenation\n",
    "#to add two array we use concatenate\n",
    "print(np.concatenate([arr1,arr2]))"
   ]
  },
  {
   "cell_type": "code",
   "execution_count": 9,
   "id": "3ed05e30-eaa5-42c1-bf96-f485cd899ac8",
   "metadata": {},
   "outputs": [
    {
     "name": "stdout",
     "output_type": "stream",
     "text": [
      "[[10 20 30]\n",
      " [40 50 60]\n",
      " [ 1  2  3]\n",
      " [ 4  5  6]]\n"
     ]
    }
   ],
   "source": [
    "arr1=np.array([[10,20,30],[40,50,60]])\n",
    "arr2=np.array([[1,2,3],[4,5,6]])\n",
    "# we can add two 2D array by two diiferent way axis=0 and axis=1\n",
    "# axis=0 means adding vertically\n",
    "# we can also use vstack to add two 2D array\n",
    "# default value for concatenate is axis=0\n",
    "print(np.concatenate([arr1,arr2])) #default"
   ]
  },
  {
   "cell_type": "code",
   "execution_count": 11,
   "id": "ff3b51b6-da93-4f35-a1f8-07ca3895b12d",
   "metadata": {},
   "outputs": [
    {
     "name": "stdout",
     "output_type": "stream",
     "text": [
      "[[10 20 30]\n",
      " [40 50 60]\n",
      " [ 1  2  3]\n",
      " [ 4  5  6]]\n"
     ]
    }
   ],
   "source": [
    "# using axis=0\n",
    "print(np.concatenate([arr1,arr2],axis=0))"
   ]
  },
  {
   "cell_type": "code",
   "execution_count": 12,
   "id": "4c0809c4-ae37-464f-8c28-f90d44419df7",
   "metadata": {},
   "outputs": [
    {
     "name": "stdout",
     "output_type": "stream",
     "text": [
      "[[10 20 30]\n",
      " [40 50 60]\n",
      " [ 1  2  3]\n",
      " [ 4  5  6]]\n"
     ]
    }
   ],
   "source": [
    "# using vstack method\n",
    "print(np.vstack([arr1,arr2]))"
   ]
  },
  {
   "cell_type": "code",
   "execution_count": 13,
   "id": "b31aebed-0347-4453-9e23-f7eae1669a8c",
   "metadata": {},
   "outputs": [
    {
     "name": "stdout",
     "output_type": "stream",
     "text": [
      "[[10 20 30  1  2  3]\n",
      " [40 50 60  4  5  6]]\n"
     ]
    }
   ],
   "source": [
    "# axis=1\n",
    "# it will add two arrays horizontally\n",
    "# we can use hstack to add horizontally by axis=1\n",
    "\n",
    "# using axis=1\n",
    "print(np.concatenate([arr1,arr2],axis=1))"
   ]
  },
  {
   "cell_type": "code",
   "execution_count": 14,
   "id": "56d3b55f-4650-44d1-bb41-b351578540ee",
   "metadata": {},
   "outputs": [
    {
     "name": "stdout",
     "output_type": "stream",
     "text": [
      "[[10 20 30  1  2  3]\n",
      " [40 50 60  4  5  6]]\n"
     ]
    }
   ],
   "source": [
    "# using hstack method\n",
    "print(np.hstack([arr1,arr2]))"
   ]
  },
  {
   "cell_type": "code",
   "execution_count": 15,
   "id": "5cb90d8a-92ec-46f5-a87a-756bba942c7b",
   "metadata": {},
   "outputs": [
    {
     "name": "stdout",
     "output_type": "stream",
     "text": [
      "[array([10, 20]), array([30, 40]), array([50, 60])]\n"
     ]
    }
   ],
   "source": [
    "# splitting of an array\n",
    "# making different parts of an array from a single array is splitting\n",
    "# we use array_split method for splitting\n",
    "arr1=np.array([10,20,30,40,50,60])\n",
    "print(np.array_split(arr1,3)) #this will split array in three parts  "
   ]
  },
  {
   "cell_type": "code",
   "execution_count": 17,
   "id": "cdfab9d4-b137-4cbc-8af3-3b133ce2e353",
   "metadata": {},
   "outputs": [
    {
     "name": "stdout",
     "output_type": "stream",
     "text": [
      "[10 20]\n",
      "[30 40]\n",
      "[50 60]\n"
     ]
    }
   ],
   "source": [
    "# we can access the splitted array throught indexing\n",
    "splitted=np.array_split(arr1,3)\n",
    "print(splitted[0])\n",
    "print(splitted[1])\n",
    "print(splitted[2])"
   ]
  },
  {
   "cell_type": "code",
   "execution_count": 19,
   "id": "1201829d-df68-4b8b-a046-2143f27cb5a0",
   "metadata": {},
   "outputs": [
    {
     "name": "stdout",
     "output_type": "stream",
     "text": [
      "[array([[10, 20, 30]]), array([[40, 50, 60]]), array([], shape=(0, 3), dtype=int64)]\n"
     ]
    }
   ],
   "source": [
    "# for 2D array\n",
    "# we cannot split 2D array into multiple parts it can only split into two parts\n",
    "# if we did multiple parts the other parts were empty\n",
    "arr2=np.array([[10,20,30],[40,50,60]])\n",
    "print(np.array_split(arr2,2))\n",
    "pr"
   ]
  },
  {
   "cell_type": "code",
   "execution_count": null,
   "id": "453e9b5a-33ef-4bfb-a663-7c0abeadabeb",
   "metadata": {},
   "outputs": [],
   "source": []
  }
 ],
 "metadata": {
  "kernelspec": {
   "display_name": "Python 3 (ipykernel)",
   "language": "python",
   "name": "python3"
  },
  "language_info": {
   "codemirror_mode": {
    "name": "ipython",
    "version": 3
   },
   "file_extension": ".py",
   "mimetype": "text/x-python",
   "name": "python",
   "nbconvert_exporter": "python",
   "pygments_lexer": "ipython3",
   "version": "3.13.4"
  }
 },
 "nbformat": 4,
 "nbformat_minor": 5
}
