{
 "cells": [
  {
   "cell_type": "markdown",
   "id": "168f97e3-e3cb-41fa-9f36-cc390367184f",
   "metadata": {},
   "source": [
    "Statistics"
   ]
  },
  {
   "cell_type": "code",
   "execution_count": null,
   "id": "c48a2f16-831b-45c7-9a9b-bc643edb5310",
   "metadata": {},
   "outputs": [],
   "source": [
    "import numpy as np "
   ]
  },
  {
   "cell_type": "code",
   "execution_count": 15,
   "id": "e1917683-ae44-4cc3-b220-2466ce6e4850",
   "metadata": {},
   "outputs": [
    {
     "name": "stdout",
     "output_type": "stream",
     "text": [
      "50.6\n"
     ]
    }
   ],
   "source": [
    "arr = np.array([42, 17, 89, 33, 10, 65, 91, 24, 76, 59])\n",
    "# mean(): give average of an array\n",
    "print(np.mean(arr))\n",
    "# output:50.6"
   ]
  },
  {
   "cell_type": "code",
   "execution_count": 16,
   "id": "9bd389d1-97ed-42f1-835c-ffb4e8b68cd7",
   "metadata": {},
   "outputs": [
    {
     "name": "stdout",
     "output_type": "stream",
     "text": [
      "50.5\n"
     ]
    }
   ],
   "source": [
    "# median():\n",
    "# gives middle number after sorting\n",
    "# if total number of elements are even then it will take average of middle two numbers after sorting\n",
    "print(np.median(arr))\n",
    "# output:50.5"
   ]
  },
  {
   "cell_type": "code",
   "execution_count": 17,
   "id": "e433ff67-8e36-47c2-a6ea-4f4f9742d98f",
   "metadata": {},
   "outputs": [
    {
     "name": "stdout",
     "output_type": "stream",
     "text": [
      "42\n"
     ]
    }
   ],
   "source": [
    "# mode():\n",
    "# gives most occuring values in an array\n",
    "# to use mode we have to import statistics library\n",
    "import statistics as st\n",
    "print(st.mode(arr))"
   ]
  },
  {
   "cell_type": "code",
   "execution_count": 18,
   "id": "31774813-b045-4230-b654-0cf2a9e834e9",
   "metadata": {},
   "outputs": [
    {
     "name": "stdout",
     "output_type": "stream",
     "text": [
      "789.8399999999999\n"
     ]
    }
   ],
   "source": [
    "# var():\n",
    "# Variance measures how spread out the numbers are from the mean.\n",
    "print(np.var(arr))\n"
   ]
  },
  {
   "cell_type": "code",
   "execution_count": 19,
   "id": "e624a639-83dc-431e-8864-635313eec979",
   "metadata": {},
   "outputs": [
    {
     "name": "stdout",
     "output_type": "stream",
     "text": [
      "28.104092228712883\n"
     ]
    }
   ],
   "source": [
    "# std():\n",
    "# Standard Deviation is the square root of the variance.\n",
    "print(np.std(arr))"
   ]
  },
  {
   "cell_type": "code",
   "execution_count": 21,
   "id": "4bbb5cbb-8a31-4095-b4f4-de8693fdccfa",
   "metadata": {},
   "outputs": [
    {
     "name": "stdout",
     "output_type": "stream",
     "text": [
      "[[1.         0.98639392]\n",
      " [0.98639392 1.        ]]\n"
     ]
    }
   ],
   "source": [
    "# corrcoef():\n",
    "# The correlation coefficient measures the strength and direction of a linear relationship between two variables.\n",
    "# value ranges from -1 to +1\n",
    "# -1 represents inversly proportinal\n",
    "# +1 represents positive relationship\n",
    "#  0 represents no relationship\n",
    "X = np.array([10, 20, 30, 40, 50])\n",
    "Y = np.array([5, 25, 35, 45, 55])\n",
    "\n",
    "print(np.corrcoef([X,Y]))"
   ]
  }
 ],
 "metadata": {
  "kernelspec": {
   "display_name": "Python 3 (ipykernel)",
   "language": "python",
   "name": "python3"
  },
  "language_info": {
   "codemirror_mode": {
    "name": "ipython",
    "version": 3
   },
   "file_extension": ".py",
   "mimetype": "text/x-python",
   "name": "python",
   "nbconvert_exporter": "python",
   "pygments_lexer": "ipython3",
   "version": "3.13.4"
  }
 },
 "nbformat": 4,
 "nbformat_minor": 5
}
