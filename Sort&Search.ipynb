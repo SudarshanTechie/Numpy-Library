{
 "cells": [
  {
   "cell_type": "markdown",
   "id": "19557af9-4aff-4396-90c7-4504ee7dc313",
   "metadata": {},
   "source": [
    "Sorting And Searching"
   ]
  },
  {
   "cell_type": "code",
   "execution_count": 1,
   "id": "8352c088-e059-42da-82d6-6dea406d3a3b",
   "metadata": {},
   "outputs": [],
   "source": [
    "import numpy as np"
   ]
  },
  {
   "cell_type": "code",
   "execution_count": 2,
   "id": "058f2450-33ab-4353-826d-c92ba5930d25",
   "metadata": {},
   "outputs": [
    {
     "name": "stdout",
     "output_type": "stream",
     "text": [
      "[ 1  3  5  8 23 24 36 67 89]\n"
     ]
    }
   ],
   "source": [
    "# sorting\n",
    "# to arrange the numbers in ascending order\n",
    "# we use direct sort() method to sort the data\n",
    "arr1=np.array([3,23,5,8,67,1,36,89,24])\n",
    "print(np.sort(arr1))"
   ]
  },
  {
   "cell_type": "code",
   "execution_count": 3,
   "id": "3d67edbc-f7e9-41ed-9b1d-dad2dbc3c968",
   "metadata": {},
   "outputs": [
    {
     "name": "stdout",
     "output_type": "stream",
     "text": [
      "[-12   1   3   4   4  23  34  45  76]\n"
     ]
    }
   ],
   "source": [
    "arr2=np.array([-12,23,4,1,3,76,34,4,45])\n",
    "print(np.sort(arr2))"
   ]
  },
  {
   "cell_type": "code",
   "execution_count": 4,
   "id": "69d51d46-1602-4faa-af2c-f466133546af",
   "metadata": {},
   "outputs": [
    {
     "name": "stdout",
     "output_type": "stream",
     "text": [
      "[[ 2  3  7 12 23 34 45 76]\n",
      " [ 2  4 23 34 45 45 56 76]]\n"
     ]
    }
   ],
   "source": [
    "# For 2D array\n",
    "arr1=np.array([[3,45,2,76,12,34,7,23],[34,45,2,56,4,23,45,76]])\n",
    "print(np.sort(arr1))\n",
    "# This how sorting works in 2D array it will sort each array one by one"
   ]
  },
  {
   "cell_type": "code",
   "execution_count": 5,
   "id": "fd14d773-7df5-4e69-b87c-8779f36836d7",
   "metadata": {},
   "outputs": [
    {
     "name": "stdout",
     "output_type": "stream",
     "text": [
      "Index where value is 30: (array([2]),)\n"
     ]
    }
   ],
   "source": [
    "# Searching\n",
    "arr = np.array([10, 20, 30, 40, 50])\n",
    "\n",
    "# To find the index where value is 30\n",
    "result = np.where(arr == 30)\n",
    "\n",
    "print(\"Index where value is 30:\", result)"
   ]
  },
  {
   "cell_type": "code",
   "execution_count": 6,
   "id": "5edc3f4e-bfff-45bd-b8ae-2f0fccbf7919",
   "metadata": {},
   "outputs": [
    {
     "name": "stdout",
     "output_type": "stream",
     "text": [
      "Indexes where value is greater than 10: (array([1, 3, 5]),)\n"
     ]
    }
   ],
   "source": [
    "arr = np.array([5, 12, 7, 25, 10, 50])\n",
    "\n",
    "# To find indexes where value > 10\n",
    "result = np.where(arr > 10)\n",
    "\n",
    "print(\"Indexes where value is greater than 10:\", result)"
   ]
  }
 ],
 "metadata": {
  "kernelspec": {
   "display_name": "Python 3 (ipykernel)",
   "language": "python",
   "name": "python3"
  },
  "language_info": {
   "codemirror_mode": {
    "name": "ipython",
    "version": 3
   },
   "file_extension": ".py",
   "mimetype": "text/x-python",
   "name": "python",
   "nbconvert_exporter": "python",
   "pygments_lexer": "ipython3",
   "version": "3.13.4"
  }
 },
 "nbformat": 4,
 "nbformat_minor": 5
}
