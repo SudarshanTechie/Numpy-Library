{
 "cells": [
  {
   "cell_type": "code",
   "execution_count": 2,
   "id": "30bced56-17b5-4461-a3f7-6d483652b6e9",
   "metadata": {},
   "outputs": [],
   "source": [
    "import numpy as np"
   ]
  },
  {
   "cell_type": "code",
   "execution_count": 7,
   "id": "98e98293-ada4-48d4-90a8-3c37a37a48fb",
   "metadata": {},
   "outputs": [],
   "source": [
    "arr1=np.array([10,20,30,40,50,60,70])"
   ]
  },
  {
   "cell_type": "code",
   "execution_count": 8,
   "id": "198cdbef-18ca-4d49-b08e-99bf5100138d",
   "metadata": {},
   "outputs": [
    {
     "name": "stdout",
     "output_type": "stream",
     "text": [
      "[10 20 30 40 50 60 70 80]\n",
      "[10 20 30 40 50 60 70 90]\n",
      "[ 10  20  30  40  50  60  70 100]\n",
      "[ 10  20  30  40  50  60  70 120]\n"
     ]
    }
   ],
   "source": [
    "# append()\n",
    "# Adding elements at the end\n",
    "print(np.append(arr1,80))\n",
    "print(np.append(arr1,90))\n",
    "print(np.append(arr1,100))\n",
    "print(np.append(arr1,120))"
   ]
  },
  {
   "cell_type": "code",
   "execution_count": 10,
   "id": "6e7be81f-d854-4cf4-b1ba-db477886b2ae",
   "metadata": {},
   "outputs": [
    {
     "name": "stdout",
     "output_type": "stream",
     "text": [
      "[ 2  3  4  7  8  9 10]\n",
      "[ 2  3  4  7  8  9 90]\n",
      "[ 2  3  4  7  8  9 60]\n"
     ]
    }
   ],
   "source": [
    "arr2=np.array([[2,3,4],[7,8,9]])\n",
    "# for 2D array\n",
    "print(np.append(arr2,10))\n",
    "print(np.append(arr2,90))\n",
    "print(np.append(arr2,60))"
   ]
  },
  {
   "cell_type": "code",
   "execution_count": 5,
   "id": "14dd8d48-f6f2-4ed3-a284-412db19d8ef7",
   "metadata": {},
   "outputs": [
    {
     "name": "stdout",
     "output_type": "stream",
     "text": [
      "[10 80 20 30 40 50 60 70]\n",
      "[ 10  20  30  40  50 210  60  70]\n"
     ]
    }
   ],
   "source": [
    "# insert() method \n",
    "arr1=np.array([10,20,30,40,50,60,70])\n",
    "print(np.insert(arr1,1,80)) # 80 will add at index 1\n",
    "print(np.insert(arr1,5,210)) # 210 will add at index 5"
   ]
  },
  {
   "cell_type": "code",
   "execution_count": 7,
   "id": "c605fb31-efa9-4e1d-911d-73aa3d061cbe",
   "metadata": {},
   "outputs": [
    {
     "name": "stdout",
     "output_type": "stream",
     "text": [
      "[  2   3   4   7 100   8   9]\n",
      "[  2 210   3   4   7   8   9]\n"
     ]
    }
   ],
   "source": [
    "arr2=np.array([[2,3,4],[7,8,9]]) #for 2D array\n",
    "print(np.insert(arr2,4,100)) # 100 will add at the index 4\n",
    "print(np.insert(arr2,1,210)) # 210 will add at the index 1"
   ]
  },
  {
   "cell_type": "code",
   "execution_count": 17,
   "id": "b043ecc6-ee07-4aea-bdfc-279a0d52a99e",
   "metadata": {},
   "outputs": [
    {
     "name": "stdout",
     "output_type": "stream",
     "text": [
      "[10 20 30 50 60 70]\n",
      "[10 50 60 70]\n"
     ]
    }
   ],
   "source": [
    "# delete() method\n",
    "# to remove elements for array\n",
    "arr1=np.array([10,20,30,40,50,60,70])\n",
    "print(np.delete(arr1,3)) #value at index 3 will delete\n",
    "print(np.delete(arr1,[1,2,3]))"
   ]
  },
  {
   "cell_type": "code",
   "execution_count": null,
   "id": "573c333e-56a0-444b-bc1e-143f8bd7131b",
   "metadata": {},
   "outputs": [],
   "source": []
  }
 ],
 "metadata": {
  "kernelspec": {
   "display_name": "Python 3 (ipykernel)",
   "language": "python",
   "name": "python3"
  },
  "language_info": {
   "codemirror_mode": {
    "name": "ipython",
    "version": 3
   },
   "file_extension": ".py",
   "mimetype": "text/x-python",
   "name": "python",
   "nbconvert_exporter": "python",
   "pygments_lexer": "ipython3",
   "version": "3.13.4"
  }
 },
 "nbformat": 4,
 "nbformat_minor": 5
}
