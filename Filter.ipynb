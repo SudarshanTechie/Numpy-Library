{
 "cells": [
  {
   "cell_type": "markdown",
   "id": "2c3151dc-1b37-40f0-b350-e99f39622bf2",
   "metadata": {},
   "source": [
    "Filtering Of Array Data"
   ]
  },
  {
   "cell_type": "code",
   "execution_count": 2,
   "id": "7901b435-587c-4500-8c83-dac64aade33b",
   "metadata": {},
   "outputs": [],
   "source": [
    "import numpy as np"
   ]
  },
  {
   "cell_type": "code",
   "execution_count": 3,
   "id": "3dbbc037-46c9-4842-8269-c21de51a6ac7",
   "metadata": {},
   "outputs": [],
   "source": [
    "# Filtering is used to filter a data based on condition\n",
    "# we can use to avoid unwanted data\n",
    "# we derive specific data using condition"
   ]
  },
  {
   "cell_type": "code",
   "execution_count": 4,
   "id": "1e585c88-a3d7-4ba4-9622-d14a3daa831b",
   "metadata": {},
   "outputs": [
    {
     "name": "stdout",
     "output_type": "stream",
     "text": [
      "[False False  True  True  True]\n",
      "[30 40 50]\n"
     ]
    }
   ],
   "source": [
    "# Example No:1\n",
    "# using condition data should be greater than 20\n",
    "arr=np.array([10,20,30,40,50])\n",
    "condition = arr>20\n",
    "print(condition)\n",
    "filtered=arr[condition]\n",
    "print(filtered)"
   ]
  },
  {
   "cell_type": "code",
   "execution_count": 5,
   "id": "c5eeb18a-0a53-4690-b9c2-6f2ea42d8f3d",
   "metadata": {},
   "outputs": [
    {
     "name": "stdout",
     "output_type": "stream",
     "text": [
      "[False  True False  True False  True False  True False]\n",
      "[2 4 6 8]\n"
     ]
    }
   ],
   "source": [
    "# Example No:2\n",
    "# using condition reminder should be zero\n",
    "arr=np.array([1,2,3,4,5,6,7,8,9])\n",
    "condition=arr%2==0\n",
    "print(condition)\n",
    "print(arr[condition])\n"
   ]
  },
  {
   "cell_type": "code",
   "execution_count": null,
   "id": "0263efef-ae27-4ed3-b003-f91ca91ef21d",
   "metadata": {},
   "outputs": [],
   "source": []
  }
 ],
 "metadata": {
  "kernelspec": {
   "display_name": "Python 3 (ipykernel)",
   "language": "python",
   "name": "python3"
  },
  "language_info": {
   "codemirror_mode": {
    "name": "ipython",
    "version": 3
   },
   "file_extension": ".py",
   "mimetype": "text/x-python",
   "name": "python",
   "nbconvert_exporter": "python",
   "pygments_lexer": "ipython3",
   "version": "3.13.4"
  }
 },
 "nbformat": 4,
 "nbformat_minor": 5
}
