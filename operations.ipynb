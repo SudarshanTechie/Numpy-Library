{
 "cells": [
  {
   "cell_type": "code",
   "execution_count": 1,
   "id": "4342f410-162e-423e-8911-ff9f0a730409",
   "metadata": {},
   "outputs": [],
   "source": [
    "import numpy as np"
   ]
  },
  {
   "cell_type": "code",
   "execution_count": 2,
   "id": "17b5106d-3541-40b4-b152-1b9aa93a2ef7",
   "metadata": {},
   "outputs": [
    {
     "name": "stdout",
     "output_type": "stream",
     "text": [
      "[ 2  4  6  8 10 12]\n",
      "[ 1  3  5  7  9 11]\n"
     ]
    }
   ],
   "source": [
    "arr1=np.array([2,4,6,8,10,12])\n",
    "arr2=np.array([1,3,5,7,9,11])\n",
    "# Sum of two arrays"
   ]
  },
  {
   "cell_type": "code",
   "execution_count": 3,
   "id": "2d7b47d5-cdc2-4022-a0d4-6ae4aea11f10",
   "metadata": {},
   "outputs": [
    {
     "name": "stdout",
     "output_type": "stream",
     "text": [
      "[ 3  7 11 15 19 23]\n"
     ]
    }
   ],
   "source": [
    "# Sum of two arrays\n",
    "print(np.add(arr1,arr2))"
   ]
  },
  {
   "cell_type": "code",
   "execution_count": 5,
   "id": "750b4f90-7c78-4d53-ae88-e5b509a9ad99",
   "metadata": {},
   "outputs": [
    {
     "name": "stdout",
     "output_type": "stream",
     "text": [
      "[1 1 1 1 1 1]\n"
     ]
    }
   ],
   "source": [
    "# Substraction of two arrays\n",
    "print(np.subtract(arr1,arr2))"
   ]
  },
  {
   "cell_type": "code",
   "execution_count": 6,
   "id": "a24bf392-25c4-4967-a08e-1b51316a1e0b",
   "metadata": {},
   "outputs": [
    {
     "name": "stdout",
     "output_type": "stream",
     "text": [
      "[2.         1.33333333 1.2        1.14285714 1.11111111 1.09090909]\n"
     ]
    }
   ],
   "source": [
    "# division of two arrays\n",
    "print(np.divide(arr1,arr2))"
   ]
  },
  {
   "cell_type": "code",
   "execution_count": 7,
   "id": "4ff71f2b-01df-4191-9a7b-f875534e20df",
   "metadata": {},
   "outputs": [
    {
     "name": "stdout",
     "output_type": "stream",
     "text": [
      "[  2  12  30  56  90 132]\n"
     ]
    }
   ],
   "source": [
    "# Multiplication of two arrays\n",
    "print(np.multiply(arr1,arr2))"
   ]
  },
  {
   "cell_type": "code",
   "execution_count": 8,
   "id": "497c0e59-89e8-498e-96a0-e2713cb03623",
   "metadata": {},
   "outputs": [
    {
     "name": "stdout",
     "output_type": "stream",
     "text": [
      "[ 1  4  9 16 25 36 49 64 81]\n"
     ]
    }
   ],
   "source": [
    "# Power of array\n",
    "arr3=np.array([1,2,3,4,5,6,7,8,9])\n",
    "arr4=np.array([2])\n",
    "print(np.power(arr3,arr4))"
   ]
  },
  {
   "cell_type": "code",
   "execution_count": 9,
   "id": "140a04d4-d6ce-4fa8-a420-8fff9b0d7235",
   "metadata": {},
   "outputs": [
    {
     "name": "stdout",
     "output_type": "stream",
     "text": [
      "[1. 2. 3. 4. 5. 6. 7. 8. 9.]\n"
     ]
    }
   ],
   "source": [
    "# Square Root of array\n",
    "arr5=np.array([1,4,9,16,25,36,49,64,81])\n",
    "print(np.sqrt(arr5))"
   ]
  }
 ],
 "metadata": {
  "kernelspec": {
   "display_name": "Python 3 (ipykernel)",
   "language": "python",
   "name": "python3"
  },
  "language_info": {
   "codemirror_mode": {
    "name": "ipython",
    "version": 3
   },
   "file_extension": ".py",
   "mimetype": "text/x-python",
   "name": "python",
   "nbconvert_exporter": "python",
   "pygments_lexer": "ipython3",
   "version": "3.13.4"
  }
 },
 "nbformat": 4,
 "nbformat_minor": 5
}
