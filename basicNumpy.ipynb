{
 "cells": [
  {
   "cell_type": "code",
   "execution_count": 1,
   "id": "b9280c1e-5ca2-4bd9-af02-624b46501189",
   "metadata": {},
   "outputs": [],
   "source": [
    "import numpy as np\n",
    "# to perform scientific and mathematical calculations"
   ]
  },
  {
   "cell_type": "code",
   "execution_count": 3,
   "id": "7cf05087-22d8-4d52-ae22-d116a825ddcd",
   "metadata": {},
   "outputs": [
    {
     "name": "stdout",
     "output_type": "stream",
     "text": [
      "[2 4 6 3 8 9]\n",
      "<class 'numpy.ndarray'>\n"
     ]
    }
   ],
   "source": [
    "# Array\n",
    "# Collection of items that are stored at contiguous memory\n",
    "# Same datatype\n",
    "arr1=np.array([2,4,6,3,8,9]) #array creation\n",
    "print(arr1)\n",
    "print(type(arr1))\n"
   ]
  },
  {
   "cell_type": "code",
   "execution_count": 9,
   "id": "3dc1c5a0-e583-4ea9-b91e-5481a4f52dbd",
   "metadata": {},
   "outputs": [
    {
     "name": "stdout",
     "output_type": "stream",
     "text": [
      "[2 4 6 3]\n",
      "[3 8]\n",
      "[2 4 6]\n",
      "[3 8 9]\n",
      "[2 4 6 3 8 9]\n"
     ]
    }
   ],
   "source": [
    "# Array Slicing\n",
    "print(arr1[0:4])\n",
    "print(arr1[3:5])\n",
    "print(arr1[:3])\n",
    "print(arr1[3:])\n",
    "print(arr1[:])"
   ]
  },
  {
   "cell_type": "code",
   "execution_count": 21,
   "id": "94e27de0-e39d-4a21-a338-76b0edd199c7",
   "metadata": {},
   "outputs": [
    {
     "name": "stdout",
     "output_type": "stream",
     "text": [
      "[[10 20 30]\n",
      " [50 60 70]]\n",
      "[10 20]\n",
      "[50 60 70]\n",
      "[60 70]\n",
      "30\n",
      "60\n"
     ]
    }
   ],
   "source": [
    "arr2=np.array([[10,20,30,40],[50,60,70,80]]) #2D array\n",
    "# Array Slicing\n",
    "print(arr2[0:3,0:3])\n",
    "print(arr2[0,0:2])\n",
    "print(arr2[1,0:3])\n",
    "print(arr2[1,1:3])\n",
    "print(arr2[0,2])\n",
    "print(arr2[1,1])"
   ]
  },
  {
   "cell_type": "code",
   "execution_count": 28,
   "id": "9a75f69a-c67e-49da-b388-61ea1aa89d63",
   "metadata": {},
   "outputs": [
    {
     "name": "stdout",
     "output_type": "stream",
     "text": [
      "(8,)\n",
      "8\n",
      "6\n",
      "8\n",
      "2\n",
      "1\n",
      "2\n",
      "['10' '20' '30' '40' '50' '60' '70' '80']\n",
      "[10. 20. 30. 40. 50. 60. 70. 80.]\n",
      "[10 20 30 40 50 60 70 80]\n"
     ]
    }
   ],
   "source": [
    "arr3=np.array([10,20,30,40,50,60,70,80])\n",
    "arr4=np.array([[3,6,9],[2,4,6]])\n",
    "# Attributes of an array\n",
    "print(np.shape(arr3)) #gives count of rows and columns\n",
    "print(np.size(arr3)) #gives total number of elements present in the array\n",
    "print(np.size(arr4))\n",
    "print(len(arr3)) #gives length of an array\n",
    "print(len(arr4))\n",
    "print(np.ndim(arr3)) #gives how many dimentions array holds \n",
    "print(np.ndim(arr4))\n",
    "print(arr3.astype(str)) #convert to string datatype\n",
    "print(arr3.astype(float)) #convert to float datatype"
   ]
  },
  {
   "cell_type": "code",
   "execution_count": null,
   "id": "88c20c4b-5add-4668-a3a5-1f82cafecaca",
   "metadata": {},
   "outputs": [],
   "source": []
  }
 ],
 "metadata": {
  "kernelspec": {
   "display_name": "Python 3 (ipykernel)",
   "language": "python",
   "name": "python3"
  },
  "language_info": {
   "codemirror_mode": {
    "name": "ipython",
    "version": 3
   },
   "file_extension": ".py",
   "mimetype": "text/x-python",
   "name": "python",
   "nbconvert_exporter": "python",
   "pygments_lexer": "ipython3",
   "version": "3.13.4"
  }
 },
 "nbformat": 4,
 "nbformat_minor": 5
}
