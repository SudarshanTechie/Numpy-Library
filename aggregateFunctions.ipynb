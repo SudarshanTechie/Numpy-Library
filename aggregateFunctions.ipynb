{
 "cells": [
  {
   "cell_type": "code",
   "execution_count": 2,
   "id": "b8e710d6-b3d3-4d96-a906-a09ecbe9b87d",
   "metadata": {},
   "outputs": [],
   "source": [
    "import numpy as np"
   ]
  },
  {
   "cell_type": "code",
   "execution_count": 3,
   "id": "09839ec5-bd29-4ee8-ba74-b44f3679d6ba",
   "metadata": {},
   "outputs": [
    {
     "name": "stdout",
     "output_type": "stream",
     "text": [
      "190\n"
     ]
    }
   ],
   "source": [
    "ar=np.array([20,40,60,70])\n",
    "\n",
    "# 1)sum() : give sum of all elements\n",
    "print(np.sum(ar))\n",
    "# output: 190"
   ]
  },
  {
   "cell_type": "code",
   "execution_count": 4,
   "id": "2d0a1bff-dea5-40a5-a66c-ac619bda7463",
   "metadata": {},
   "outputs": [
    {
     "name": "stdout",
     "output_type": "stream",
     "text": [
      "20\n"
     ]
    }
   ],
   "source": [
    "# 2)min(): give minimum value from the array\n",
    "print(np.min(ar))\n",
    "# output: 20"
   ]
  },
  {
   "cell_type": "code",
   "execution_count": 5,
   "id": "5d491816-3ea6-4cbf-8ba1-f056ddf8af56",
   "metadata": {},
   "outputs": [
    {
     "name": "stdout",
     "output_type": "stream",
     "text": [
      "70\n"
     ]
    }
   ],
   "source": [
    "# 3)max(): give maximum value from the array\n",
    "print(np.max(ar))\n",
    "# output: 70"
   ]
  },
  {
   "cell_type": "code",
   "execution_count": 10,
   "id": "d045f306-440a-44c6-8b58-366584a87fb7",
   "metadata": {},
   "outputs": [
    {
     "name": "stdout",
     "output_type": "stream",
     "text": [
      "4\n"
     ]
    }
   ],
   "source": [
    "# 4)size(): give total number of elements in array\n",
    "print(np.size(ar))\n",
    "# output: 4"
   ]
  },
  {
   "cell_type": "code",
   "execution_count": 11,
   "id": "b6c360f7-8f62-4a25-8449-e75c91fa9889",
   "metadata": {},
   "outputs": [
    {
     "name": "stdout",
     "output_type": "stream",
     "text": [
      "47.5\n"
     ]
    }
   ],
   "source": [
    "# 5) mean(): give mean/average of array\n",
    "print(np.mean(ar))\n",
    "# output: 47.5"
   ]
  },
  {
   "cell_type": "code",
   "execution_count": 7,
   "id": "65578429-a02b-43cc-85dd-4cdf1b149d3f",
   "metadata": {},
   "outputs": [
    {
     "name": "stdout",
     "output_type": "stream",
     "text": [
      "Original Array: [1 2 3 4]\n",
      "Cumulative Sum: [ 1  3  6 10]\n"
     ]
    }
   ],
   "source": [
    "# cumsum() :\n",
    "arr = np.array([1, 2, 3, 4])\n",
    "# Calculate cumulative sum\n",
    "result = np.cumsum(arr)\n",
    "print(\"Original Array:\", arr)\n",
    "print(\"Cumulative Sum:\", result)\n",
    "\n",
    "# Output: [ 1  3  6 10 ]"
   ]
  },
  {
   "cell_type": "code",
   "execution_count": 9,
   "id": "58bff571-9a0c-4c02-99d9-f9557b8e98df",
   "metadata": {},
   "outputs": [
    {
     "name": "stdout",
     "output_type": "stream",
     "text": [
      "Original Array: [1 2 3 4]\n",
      "Cumulative Product: [ 1  2  6 24]\n"
     ]
    }
   ],
   "source": [
    "# cumprod():\n",
    "arr = np.array([1, 2, 3, 4])\n",
    "\n",
    "# Calculate cumulative product\n",
    "result = np.cumprod(arr)\n",
    "\n",
    "print(\"Original Array:\", arr)\n",
    "print(\"Cumulative Product:\", result)\n",
    "\n",
    "# Output: [ 1  2  6 24 ]"
   ]
  }
 ],
 "metadata": {
  "kernelspec": {
   "display_name": "Python 3 (ipykernel)",
   "language": "python",
   "name": "python3"
  },
  "language_info": {
   "codemirror_mode": {
    "name": "ipython",
    "version": 3
   },
   "file_extension": ".py",
   "mimetype": "text/x-python",
   "name": "python",
   "nbconvert_exporter": "python",
   "pygments_lexer": "ipython3",
   "version": "3.13.4"
  }
 },
 "nbformat": 4,
 "nbformat_minor": 5
}
